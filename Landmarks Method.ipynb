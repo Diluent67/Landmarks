{
 "cells": [
  {
   "cell_type": "markdown",
   "metadata": {},
   "source": [
    "# Facial Landmark Detection Using dlib and OpenCV"
   ]
  },
  {
   "cell_type": "markdown",
   "metadata": {},
   "source": [
    "This notebook is based on the following [link](https://www.pyimagesearch.com/2017/04/03/facial-landmarks-dlib-opencv-python/), detailing a method to recognize facial landmarks within images."
   ]
  },
  {
   "cell_type": "code",
   "execution_count": 1,
   "metadata": {},
   "outputs": [],
   "source": [
    "# Import necessary packages\n",
    "from imutils import face_utils\n",
    "from glob import glob\n",
    "import numpy as np\n",
    "import argparse\n",
    "import imutils\n",
    "import dlib\n",
    "import cv2\n",
    "import sys"
   ]
  },
  {
   "cell_type": "code",
   "execution_count": 2,
   "metadata": {},
   "outputs": [],
   "source": [
    "# Initialize dlib's face detector (HOG-based) and facial landmark predictor\n",
    "detector = dlib.get_frontal_face_detector()\n",
    "predictor = dlib.shape_predictor('shape_predictor_68_face_landmarks.dat')"
   ]
  },
  {
   "cell_type": "code",
   "execution_count": 3,
   "metadata": {},
   "outputs": [],
   "source": [
    "# Import all pictures \n",
    "all_images = glob('Pictures/*.png')\n",
    "all_images.extend(glob('Pictures/*.PNG'))"
   ]
  },
  {
   "cell_type": "code",
   "execution_count": 4,
   "metadata": {},
   "outputs": [],
   "source": [
    "# Loop through each image and run facial recognition\n",
    "masterlist = []\n",
    "no_detections = []\n",
    "\n",
    "for image in all_images:\n",
    "    \n",
    "    # Load an input image, resize it, and convert it to grayscale\n",
    "    imaged = cv2.imread(image)\n",
    "    imaged = imutils.resize(imaged, width=500)\n",
    "    gray = cv2.cvtColor(imaged, cv2.COLOR_BGR2GRAY)\n",
    "\n",
    "    # Detect faces in the grayscale image \n",
    "    rects = detector(gray, 1)\n",
    "    \n",
    "    # Add file name to no_detections if no face is detected\n",
    "    if len(rects) == 0:\n",
    "        no_detections.append(image)\n",
    "        \n",
    "    else:\n",
    "        masterlist.append(image)\n",
    "        \n",
    "        for (i, rect) in enumerate(rects):\n",
    "            \n",
    "            # Determine the facial landmarks for the face region, then\n",
    "            # convert the facial landmark (x, y)-coordinates to a NumPy\n",
    "            # array\n",
    "            shape = predictor(gray, rect)\n",
    "            shape = face_utils.shape_to_np(shape)\n",
    "\n",
    "            # Convert dlib's rectangle to a OpenCV-style bounding box\n",
    "            # [i.e., (x, y, w, h)], then draw the face bounding box\n",
    "            (x, y, w, h) = face_utils.rect_to_bb(rect)\n",
    "            cv2.rectangle(imaged, (x, y), (x + w, y + h), (0, 255, 0), 2)\n",
    "\n",
    "            # Show the face number\n",
    "            cv2.putText(imaged, \"Face #{}\".format(i + 1), (x - 10, y - 10),\n",
    "                        cv2.FONT_HERSHEY_SIMPLEX, 0.5, (0, 255, 0), 2)\n",
    "\n",
    "            # Loop over the (x, y)-coordinates for the facial landmarks\n",
    "            # and draw them on the image\n",
    "            for (x, y) in shape:\n",
    "                cv2.circle(imaged, (x, y), 1, (0, 0, 255), -1)\n",
    "\n",
    "        # Write the output image with the face detections + facial landmarks\n",
    "        outfile = image + '_landmark.png'\n",
    "        cv2.imwrite(outfile, imaged)"
   ]
  },
  {
   "cell_type": "code",
   "execution_count": 5,
   "metadata": {},
   "outputs": [
    {
     "name": "stdout",
     "output_type": "stream",
     "text": [
      "Detections: 30 \n",
      "No detections: 86\n"
     ]
    }
   ],
   "source": [
    "# Results of detections\n",
    "print(\"Detections: {} \\nNo detections: {}\".format(len(masterlist), len(no_detections)))"
   ]
  }
 ],
 "metadata": {
  "kernelspec": {
   "display_name": "Python 3",
   "language": "python",
   "name": "python3"
  },
  "language_info": {
   "codemirror_mode": {
    "name": "ipython",
    "version": 3
   },
   "file_extension": ".py",
   "mimetype": "text/x-python",
   "name": "python",
   "nbconvert_exporter": "python",
   "pygments_lexer": "ipython3",
   "version": "3.6.0"
  }
 },
 "nbformat": 4,
 "nbformat_minor": 2
}
